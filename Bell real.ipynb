{
 "cells": [
  {
   "cell_type": "code",
   "execution_count": 1,
   "id": "2724fda6",
   "metadata": {},
   "outputs": [],
   "source": [
    "import numpy as np\n",
    "\n",
    "# Importing standard Qiskit libraries\n",
    "from qiskit import QuantumCircuit, transpile, Aer, IBMQ\n",
    "from qiskit.visualization import plot_gate_map, plot_circuit_layout\n",
    "from qiskit.tools.jupyter import *\n",
    "from qiskit.visualization import *\n",
    "from qiskit.tools.monitor import job_monitor, backend_monitor, backend_overview\n",
    "from ibm_quantum_widgets import *\n",
    "from qiskit.providers.aer import QasmSimulator\n",
    "\n",
    "from qiskit.providers.aer import AerSimulator\n",
    "sim=AerSimulator()\n",
    "\n",
    "# Loading your IBM Quantum account(s)\n",
    "provider = IBMQ.load_account()\n",
    "ut_provider = IBMQ.get_provider(hub='ibm-q-utokyo', group='internal', project='hirashi-jst')"
   ]
  },
  {
   "cell_type": "code",
   "execution_count": 2,
   "id": "f87a0da3-902d-46af-8eb4-0e220d7ca328",
   "metadata": {},
   "outputs": [],
   "source": [
    "def make_bell_circuit(alpha, beta):\n",
    "    qc0 = QuantumCircuit(2,2)\n",
    "    qc0.x(0)\n",
    "    qc0.x(1)\n",
    "    qc0.h(0)\n",
    "    qc0.cx(0, 1)\n",
    "    qc0.rz(alpha,1)\n",
    "    qc0.h(0)\n",
    "    qc0.h(1)\n",
    "    qc0.measure([0,1],[0,1])\n",
    "    \n",
    "    qc1 = QuantumCircuit(2,2)\n",
    "    qc1.x(0)\n",
    "    qc1.x(1)\n",
    "    qc1.h(0)\n",
    "    qc1.cx(0, 1)\n",
    "    qc1.rz(beta,1)\n",
    "    qc1.h(0)\n",
    "    qc1.h(1)\n",
    "    qc1.measure([0,1],[0,1])\n",
    "    \n",
    "    qc2 = QuantumCircuit(2,2)\n",
    "    qc2.x(0)\n",
    "    qc2.x(1)\n",
    "    qc2.h(0)\n",
    "    qc2.cx(0, 1)\n",
    "    qc2.rz(alpha,0)\n",
    "    qc2.rz(beta,1)\n",
    "    qc2.h(0)\n",
    "    qc2.h(1)\n",
    "    qc2.measure([0,1],[0,1])\n",
    "    return [qc0, qc1, qc2]"
   ]
  },
  {
   "cell_type": "code",
   "execution_count": 3,
   "id": "d878c22c",
   "metadata": {},
   "outputs": [],
   "source": [
    "x = np.linspace(-np.pi / 2, np.pi / 2, 13)\n",
    "y = np.linspace(-np.pi, np.pi, 13)"
   ]
  },
  {
   "cell_type": "code",
   "execution_count": 5,
   "id": "b3c3faf8-72a2-42e0-8af9-f741f6e1ac4f",
   "metadata": {},
   "outputs": [],
   "source": [
    "shots = 4096\n",
    "circuits = []\n",
    "\n",
    "for i in range(13):\n",
    "    circuits = circuits + make_bell_circuit(x[i], y[i])"
   ]
  },
  {
   "cell_type": "code",
   "execution_count": 4,
   "id": "5f4918ca-7207-4bc7-a4a4-0afb3b64310a",
   "metadata": {},
   "outputs": [
    {
     "data": {
      "image/png": "[encoded data removed]",
      "text/plain": [
       "<Figure size 432x288 with 1 Axes>"
      ]
     },
     "metadata": {
      "needs_background": "light"
     },
     "output_type": "display_data"
    }
   ],
   "source": [
    "from mpl_toolkits import mplot3d\n",
    "\n",
    "%matplotlib inline\n",
    "import matplotlib.pyplot as plt\n",
    "\n",
    "fig = plt.figure()\n",
    "ax = plt.axes(projection = '3d')"
   ]
  },
  {
   "cell_type": "code",
   "execution_count": 1,
   "id": "737dc7c8-5419-410f-89e1-f60d151b16ee",
   "metadata": {},
   "outputs": [
    {
     "name": "stdout",
     "output_type": "stream",
     "text": [
      "False\n",
      "True\n",
      "[3, 5, 4, 0, 2]\n"
     ]
    }
   ],
   "source": [
    "a = [ 3, 5 ]\n",
    "print(a[0] == a[1])\n",
    "print(a[0] == a[1] - 2)\n",
    "True and False\n",
    "b = [ 4, -0, 2 ]\n",
    "print(a + b)"
   ]
  },
  {
   "cell_type": "code",
   "execution_count": 6,
   "id": "acec2753-e6e8-4fb1-923b-84265414a7ed",
   "metadata": {},
   "outputs": [
    {
     "name": "stdout",
     "output_type": "stream",
     "text": [
      "[<IBMQBackend('ibmq_montreal') from IBMQ(hub='ibm-q-utokyo', group='internal', project='hirashi-jst')>, <IBMQBackend('ibmq_toronto') from IBMQ(hub='ibm-q-utokyo', group='internal', project='hirashi-jst')>, <IBMQBackend('ibmq_bogota') from IBMQ(hub='ibm-q-utokyo', group='internal', project='hirashi-jst')>, <IBMQBackend('ibmq_casablanca') from IBMQ(hub='ibm-q-utokyo', group='internal', project='hirashi-jst')>, <IBMQBackend('ibmq_sydney') from IBMQ(hub='ibm-q-utokyo', group='internal', project='hirashi-jst')>, <IBMQBackend('ibmq_mumbai') from IBMQ(hub='ibm-q-utokyo', group='internal', project='hirashi-jst')>, <IBMQBackend('ibmq_lima') from IBMQ(hub='ibm-q-utokyo', group='internal', project='hirashi-jst')>, <IBMQBackend('ibmq_belem') from IBMQ(hub='ibm-q-utokyo', group='internal', project='hirashi-jst')>, <IBMQBackend('ibmq_quito') from IBMQ(hub='ibm-q-utokyo', group='internal', project='hirashi-jst')>, <IBMQBackend('ibmq_guadalupe') from IBMQ(hub='ibm-q-utokyo', group='internal', project='hirashi-jst')>, <IBMQBackend('ibmq_brooklyn') from IBMQ(hub='ibm-q-utokyo', group='internal', project='hirashi-jst')>, <IBMQBackend('ibmq_jakarta') from IBMQ(hub='ibm-q-utokyo', group='internal', project='hirashi-jst')>, <IBMQBackend('ibmq_manila') from IBMQ(hub='ibm-q-utokyo', group='internal', project='hirashi-jst')>, <IBMQBackend('ibm_hanoi') from IBMQ(hub='ibm-q-utokyo', group='internal', project='hirashi-jst')>, <IBMQBackend('ibm_kawasaki') from IBMQ(hub='ibm-q-utokyo', group='internal', project='hirashi-jst')>, <IBMQBackend('ibm_lagos') from IBMQ(hub='ibm-q-utokyo', group='internal', project='hirashi-jst')>, <IBMQBackend('ibm_cairo') from IBMQ(hub='ibm-q-utokyo', group='internal', project='hirashi-jst')>]\n"
     ]
    }
   ],
   "source": [
    "available_backends = ut_provider.backends(filters=lambda x: x.configuration().n_qubits >= 5 and not x.configuration().simulator and x.status().operational == True)\n",
    "\n",
    "print(available_backends)"
   ]
  },
  {
   "cell_type": "code",
   "execution_count": 7,
   "id": "3534e0ba-db9c-495d-9bff-5dec26290e33",
   "metadata": {},
   "outputs": [],
   "source": [
    "kawasaki_backend = ut_provider.get_backend(\"ibm_kawasaki\")"
   ]
  },
  {
   "cell_type": "code",
   "execution_count": 8,
   "id": "ad29cb1b-2bef-4f49-b8f5-e0f8074228e5",
   "metadata": {},
   "outputs": [
    {
     "name": "stdout",
     "output_type": "stream",
     "text": [
      "Job Status: job is queued (1)     "
     ]
    },
    {
     "ename": "KeyboardInterrupt",
     "evalue": "",
     "output_type": "error",
     "traceback": [
      "\u001b[0;31m---------------------------------------------------------------------------\u001b[0m",
      "\u001b[0;31mKeyboardInterrupt\u001b[0m                         Traceback (most recent call last)",
      "\u001b[0;32m/tmp/ipykernel_77/1474497123.py\u001b[0m in \u001b[0;36m<module>\u001b[0;34m\u001b[0m\n\u001b[1;32m      1\u001b[0m \u001b[0mkawasaki_circuits\u001b[0m \u001b[0;34m=\u001b[0m \u001b[0mtranspile\u001b[0m\u001b[0;34m(\u001b[0m\u001b[0mcircuits\u001b[0m\u001b[0;34m,\u001b[0m \u001b[0mbackend\u001b[0m\u001b[0;34m=\u001b[0m\u001b[0mkawasaki_backend\u001b[0m\u001b[0;34m)\u001b[0m\u001b[0;34m\u001b[0m\u001b[0;34m\u001b[0m\u001b[0m\n\u001b[1;32m      2\u001b[0m \u001b[0mjob_kawasaki\u001b[0m \u001b[0;34m=\u001b[0m \u001b[0mkawasaki_backend\u001b[0m\u001b[0;34m.\u001b[0m\u001b[0mrun\u001b[0m\u001b[0;34m(\u001b[0m\u001b[0mkawasaki_circuits\u001b[0m\u001b[0;34m,\u001b[0m \u001b[0mshots\u001b[0m \u001b[0;34m=\u001b[0m \u001b[0mshots\u001b[0m\u001b[0;34m,\u001b[0m \u001b[0mjob_name\u001b[0m \u001b[0;34m=\u001b[0m \u001b[0;34m\"packed: kawasaki\"\u001b[0m\u001b[0;34m,\u001b[0m \u001b[0mjob_tags\u001b[0m \u001b[0;34m=\u001b[0m \u001b[0;34m[\u001b[0m\u001b[0;34m\"bell original inequality\"\u001b[0m\u001b[0;34m,\u001b[0m \u001b[0;34m\"y=2x\"\u001b[0m\u001b[0;34m,\u001b[0m \u001b[0;34m\"kawasaki\"\u001b[0m\u001b[0;34m]\u001b[0m\u001b[0;34m)\u001b[0m\u001b[0;34m\u001b[0m\u001b[0;34m\u001b[0m\u001b[0m\n\u001b[0;32m----> 3\u001b[0;31m \u001b[0mjob_monitor\u001b[0m\u001b[0;34m(\u001b[0m\u001b[0mjob_kawasaki\u001b[0m\u001b[0;34m)\u001b[0m\u001b[0;34m\u001b[0m\u001b[0;34m\u001b[0m\u001b[0m\n\u001b[0m",
      "\u001b[0;32m/opt/conda/lib/python3.8/site-packages/qiskit/tools/monitor/job_monitor.py\u001b[0m in \u001b[0;36mjob_monitor\u001b[0;34m(job, interval, quiet, output, line_discipline)\u001b[0m\n\u001b[1;32m     87\u001b[0m         \u001b[0m_interval_set\u001b[0m \u001b[0;34m=\u001b[0m \u001b[0;32mTrue\u001b[0m\u001b[0;34m\u001b[0m\u001b[0;34m\u001b[0m\u001b[0m\n\u001b[1;32m     88\u001b[0m \u001b[0;34m\u001b[0m\u001b[0m\n\u001b[0;32m---> 89\u001b[0;31m     _text_checker(\n\u001b[0m\u001b[1;32m     90\u001b[0m         \u001b[0mjob\u001b[0m\u001b[0;34m,\u001b[0m \u001b[0minterval\u001b[0m\u001b[0;34m,\u001b[0m \u001b[0m_interval_set\u001b[0m\u001b[0;34m,\u001b[0m \u001b[0mquiet\u001b[0m\u001b[0;34m=\u001b[0m\u001b[0mquiet\u001b[0m\u001b[0;34m,\u001b[0m \u001b[0moutput\u001b[0m\u001b[0;34m=\u001b[0m\u001b[0moutput\u001b[0m\u001b[0;34m,\u001b[0m \u001b[0mline_discipline\u001b[0m\u001b[0;34m=\u001b[0m\u001b[0mline_discipline\u001b[0m\u001b[0;34m\u001b[0m\u001b[0;34m\u001b[0m\u001b[0m\n\u001b[1;32m     91\u001b[0m     )\n",
      "\u001b[0;32m/opt/conda/lib/python3.8/site-packages/qiskit/tools/monitor/job_monitor.py\u001b[0m in \u001b[0;36m_text_checker\u001b[0;34m(job, interval, _interval_set, quiet, output, line_discipline)\u001b[0m\n\u001b[1;32m     42\u001b[0m         \u001b[0mprint\u001b[0m\u001b[0;34m(\u001b[0m\u001b[0;34m\"{}{}: {}\"\u001b[0m\u001b[0;34m.\u001b[0m\u001b[0mformat\u001b[0m\u001b[0;34m(\u001b[0m\u001b[0mline_discipline\u001b[0m\u001b[0;34m,\u001b[0m \u001b[0;34m\"Job Status\"\u001b[0m\u001b[0;34m,\u001b[0m \u001b[0mmsg\u001b[0m\u001b[0;34m)\u001b[0m\u001b[0;34m,\u001b[0m \u001b[0mend\u001b[0m\u001b[0;34m=\u001b[0m\u001b[0;34m\"\"\u001b[0m\u001b[0;34m,\u001b[0m \u001b[0mfile\u001b[0m\u001b[0;34m=\u001b[0m\u001b[0moutput\u001b[0m\u001b[0;34m)\u001b[0m\u001b[0;34m\u001b[0m\u001b[0;34m\u001b[0m\u001b[0m\n\u001b[1;32m     43\u001b[0m     \u001b[0;32mwhile\u001b[0m \u001b[0mstatus\u001b[0m\u001b[0;34m.\u001b[0m\u001b[0mname\u001b[0m \u001b[0;32mnot\u001b[0m \u001b[0;32min\u001b[0m \u001b[0;34m[\u001b[0m\u001b[0;34m\"DONE\"\u001b[0m\u001b[0;34m,\u001b[0m \u001b[0;34m\"CANCELLED\"\u001b[0m\u001b[0;34m,\u001b[0m \u001b[0;34m\"ERROR\"\u001b[0m\u001b[0;34m]\u001b[0m\u001b[0;34m:\u001b[0m\u001b[0;34m\u001b[0m\u001b[0;34m\u001b[0m\u001b[0m\n\u001b[0;32m---> 44\u001b[0;31m         \u001b[0mtime\u001b[0m\u001b[0;34m.\u001b[0m\u001b[0msleep\u001b[0m\u001b[0;34m(\u001b[0m\u001b[0minterval\u001b[0m\u001b[0;34m)\u001b[0m\u001b[0;34m\u001b[0m\u001b[0;34m\u001b[0m\u001b[0m\n\u001b[0m\u001b[1;32m     45\u001b[0m         \u001b[0mstatus\u001b[0m \u001b[0;34m=\u001b[0m \u001b[0mjob\u001b[0m\u001b[0;34m.\u001b[0m\u001b[0mstatus\u001b[0m\u001b[0;34m(\u001b[0m\u001b[0;34m)\u001b[0m\u001b[0;34m\u001b[0m\u001b[0;34m\u001b[0m\u001b[0m\n\u001b[1;32m     46\u001b[0m         \u001b[0mmsg\u001b[0m \u001b[0;34m=\u001b[0m \u001b[0mstatus\u001b[0m\u001b[0;34m.\u001b[0m\u001b[0mvalue\u001b[0m\u001b[0;34m\u001b[0m\u001b[0;34m\u001b[0m\u001b[0m\n",
      "\u001b[0;31mKeyboardInterrupt\u001b[0m: "
     ]
    }
   ],
   "source": [
    "kawasaki_circuits = transpile(circuits, backend=kawasaki_backend)\n",
    "job_kawasaki = kawasaki_backend.run(kawasaki_circuits, shots = shots, job_name = \"packed: kawasaki\", job_tags = [\"bell original inequality\", \"y=2x\", \"kawasaki\"])\n",
    "job_monitor(job_kawasaki)"
   ]
  },
  {
   "cell_type": "code",
   "execution_count": null,
   "id": "acd8fd2f-580c-4ded-9cd8-71b1ac89baf2",
   "metadata": {},
   "outputs": [
    {
     "name": "stdout",
     "output_type": "stream",
     "text": [
      "Job Status: job is queued (1)     "
     ]
    }
   ],
   "source": [
    "job_kawasaki_12 = kawasaki_backend.run(kawasaki_circuits, shots = shots, job_name = \"packed: kawasaki [ 1, 2 ]\", job_tags = [\"bell original inequality\", \"y=2x\", \"kawasaki\"])\n",
    "job_monitor(job_kawasaki_12)"
   ]
  },
  {
   "cell_type": "code",
   "execution_count": 9,
   "id": "7bf3d45f-4475-4b82-b00e-c67ccafffd2f",
   "metadata": {},
   "outputs": [
    {
     "name": "stdout",
     "output_type": "stream",
     "text": [
      "61b706f75d7c536b17b0ad78\n"
     ]
    }
   ],
   "source": [
    "print(job_kawasaki.job_id())"
   ]
  },
  {
   "cell_type": "code",
   "execution_count": 33,
   "id": "fc7675a4-a8bd-4109-bcbb-e8147254ef25",
   "metadata": {},
   "outputs": [],
   "source": [
    "bogota_backend = ut_provider.get_backend(\"ibmq_bogota\")"
   ]
  },
  {
   "cell_type": "code",
   "execution_count": 17,
   "id": "6cfb1352-c9bc-4efb-b244-059e47fc6598",
   "metadata": {},
   "outputs": [
    {
     "data": {
      "text/plain": [
       "['id', 'rz', 'sx', 'x', 'cx', 'reset']"
      ]
     },
     "execution_count": 17,
     "metadata": {},
     "output_type": "execute_result"
    }
   ],
   "source": [
    "bogota_backend.configuration().basis_gates"
   ]
  },
  {
   "cell_type": "code",
   "execution_count": 14,
   "id": "6c5935d3-0a46-444b-8288-5ae748ba29ae",
   "metadata": {},
   "outputs": [
    {
     "name": "stdout",
     "output_type": "stream",
     "text": [
      "Job Status: job is actively running"
     ]
    },
    {
     "ename": "KeyboardInterrupt",
     "evalue": "",
     "output_type": "error",
     "traceback": [
      "\u001b[0;31m---------------------------------------------------------------------------\u001b[0m",
      "\u001b[0;31mKeyboardInterrupt\u001b[0m                         Traceback (most recent call last)",
      "\u001b[0;32m/tmp/ipykernel_127/1992107791.py\u001b[0m in \u001b[0;36m<module>\u001b[0;34m\u001b[0m\n\u001b[1;32m      7\u001b[0m \u001b[0mbogota_circuits\u001b[0m \u001b[0;34m=\u001b[0m \u001b[0mtranspile\u001b[0m\u001b[0;34m(\u001b[0m\u001b[0mcircuits\u001b[0m\u001b[0;34m,\u001b[0m \u001b[0mbackend\u001b[0m\u001b[0;34m=\u001b[0m\u001b[0mbogota_backend\u001b[0m\u001b[0;34m)\u001b[0m\u001b[0;34m\u001b[0m\u001b[0;34m\u001b[0m\u001b[0m\n\u001b[1;32m      8\u001b[0m \u001b[0mjob_bogota\u001b[0m \u001b[0;34m=\u001b[0m \u001b[0mbogota_backend\u001b[0m\u001b[0;34m.\u001b[0m\u001b[0mrun\u001b[0m\u001b[0;34m(\u001b[0m\u001b[0mbogota_circuits\u001b[0m\u001b[0;34m,\u001b[0m \u001b[0mshots\u001b[0m \u001b[0;34m=\u001b[0m \u001b[0mshots\u001b[0m\u001b[0;34m,\u001b[0m \u001b[0mjob_name\u001b[0m \u001b[0;34m=\u001b[0m \u001b[0;34m\"packed: bogota\"\u001b[0m\u001b[0;34m,\u001b[0m \u001b[0mjob_tags\u001b[0m \u001b[0;34m=\u001b[0m \u001b[0;34m[\u001b[0m\u001b[0;34m\"bell original inequality\"\u001b[0m\u001b[0;34m,\u001b[0m \u001b[0;34m\"y=2x\"\u001b[0m\u001b[0;34m,\u001b[0m \u001b[0;34m\"bogota\"\u001b[0m\u001b[0;34m]\u001b[0m\u001b[0;34m)\u001b[0m\u001b[0;34m\u001b[0m\u001b[0;34m\u001b[0m\u001b[0m\n\u001b[0;32m----> 9\u001b[0;31m \u001b[0mjob_monitor\u001b[0m\u001b[0;34m(\u001b[0m\u001b[0mjob_bogota\u001b[0m\u001b[0;34m)\u001b[0m\u001b[0;34m\u001b[0m\u001b[0;34m\u001b[0m\u001b[0m\n\u001b[0m",
      "\u001b[0;32m/opt/conda/lib/python3.8/site-packages/qiskit/tools/monitor/job_monitor.py\u001b[0m in \u001b[0;36mjob_monitor\u001b[0;34m(job, interval, quiet, output, line_discipline)\u001b[0m\n\u001b[1;32m     87\u001b[0m         \u001b[0m_interval_set\u001b[0m \u001b[0;34m=\u001b[0m \u001b[0;32mTrue\u001b[0m\u001b[0;34m\u001b[0m\u001b[0;34m\u001b[0m\u001b[0m\n\u001b[1;32m     88\u001b[0m \u001b[0;34m\u001b[0m\u001b[0m\n\u001b[0;32m---> 89\u001b[0;31m     _text_checker(\n\u001b[0m\u001b[1;32m     90\u001b[0m         \u001b[0mjob\u001b[0m\u001b[0;34m,\u001b[0m \u001b[0minterval\u001b[0m\u001b[0;34m,\u001b[0m \u001b[0m_interval_set\u001b[0m\u001b[0;34m,\u001b[0m \u001b[0mquiet\u001b[0m\u001b[0;34m=\u001b[0m\u001b[0mquiet\u001b[0m\u001b[0;34m,\u001b[0m \u001b[0moutput\u001b[0m\u001b[0;34m=\u001b[0m\u001b[0moutput\u001b[0m\u001b[0;34m,\u001b[0m \u001b[0mline_discipline\u001b[0m\u001b[0;34m=\u001b[0m\u001b[0mline_discipline\u001b[0m\u001b[0;34m\u001b[0m\u001b[0;34m\u001b[0m\u001b[0m\n\u001b[1;32m     91\u001b[0m     )\n",
      "\u001b[0;32m/opt/conda/lib/python3.8/site-packages/qiskit/tools/monitor/job_monitor.py\u001b[0m in \u001b[0;36m_text_checker\u001b[0;34m(job, interval, _interval_set, quiet, output, line_discipline)\u001b[0m\n\u001b[1;32m     42\u001b[0m         \u001b[0mprint\u001b[0m\u001b[0;34m(\u001b[0m\u001b[0;34m\"{}{}: {}\"\u001b[0m\u001b[0;34m.\u001b[0m\u001b[0mformat\u001b[0m\u001b[0;34m(\u001b[0m\u001b[0mline_discipline\u001b[0m\u001b[0;34m,\u001b[0m \u001b[0;34m\"Job Status\"\u001b[0m\u001b[0;34m,\u001b[0m \u001b[0mmsg\u001b[0m\u001b[0;34m)\u001b[0m\u001b[0;34m,\u001b[0m \u001b[0mend\u001b[0m\u001b[0;34m=\u001b[0m\u001b[0;34m\"\"\u001b[0m\u001b[0;34m,\u001b[0m \u001b[0mfile\u001b[0m\u001b[0;34m=\u001b[0m\u001b[0moutput\u001b[0m\u001b[0;34m)\u001b[0m\u001b[0;34m\u001b[0m\u001b[0;34m\u001b[0m\u001b[0m\n\u001b[1;32m     43\u001b[0m     \u001b[0;32mwhile\u001b[0m \u001b[0mstatus\u001b[0m\u001b[0;34m.\u001b[0m\u001b[0mname\u001b[0m \u001b[0;32mnot\u001b[0m \u001b[0;32min\u001b[0m \u001b[0;34m[\u001b[0m\u001b[0;34m\"DONE\"\u001b[0m\u001b[0;34m,\u001b[0m \u001b[0;34m\"CANCELLED\"\u001b[0m\u001b[0;34m,\u001b[0m \u001b[0;34m\"ERROR\"\u001b[0m\u001b[0;34m]\u001b[0m\u001b[0;34m:\u001b[0m\u001b[0;34m\u001b[0m\u001b[0;34m\u001b[0m\u001b[0m\n\u001b[0;32m---> 44\u001b[0;31m         \u001b[0mtime\u001b[0m\u001b[0;34m.\u001b[0m\u001b[0msleep\u001b[0m\u001b[0;34m(\u001b[0m\u001b[0minterval\u001b[0m\u001b[0;34m)\u001b[0m\u001b[0;34m\u001b[0m\u001b[0;34m\u001b[0m\u001b[0m\n\u001b[0m\u001b[1;32m     45\u001b[0m         \u001b[0mstatus\u001b[0m \u001b[0;34m=\u001b[0m \u001b[0mjob\u001b[0m\u001b[0;34m.\u001b[0m\u001b[0mstatus\u001b[0m\u001b[0;34m(\u001b[0m\u001b[0;34m)\u001b[0m\u001b[0;34m\u001b[0m\u001b[0;34m\u001b[0m\u001b[0m\n\u001b[1;32m     46\u001b[0m         \u001b[0mmsg\u001b[0m \u001b[0;34m=\u001b[0m \u001b[0mstatus\u001b[0m\u001b[0;34m.\u001b[0m\u001b[0mvalue\u001b[0m\u001b[0;34m\u001b[0m\u001b[0;34m\u001b[0m\u001b[0m\n",
      "\u001b[0;31mKeyboardInterrupt\u001b[0m: "
     ]
    }
   ],
   "source": [
    "bogota_circuits = transpile(circuits, backend=bogota_backend)\n",
    "job_bogota = bogota_backend.run(bogota_circuits, shots = shots, job_name = \"packed: bogota\", job_tags = [\"bell original inequality\", \"y=2x\", \"bogota\"])\n",
    "job_monitor(job_bogota)"
   ]
  },
  {
   "cell_type": "code",
   "execution_count": null,
   "id": "c0c27244-3892-4e88-ad92-caeda2a7c952",
   "metadata": {},
   "outputs": [],
   "source": [
    "mapped_circuit = transpile(circuits, backend=quito_backend)\n",
    "job_quito = quito_backend.run(mapped_circuit, shots = shots, job_name = \"packed: quito\", job_tags = [\"bell original inequality\", \"y=2x\", \"quito\"])\n",
    "job_monitor(job_quito)"
   ]
  },
  {
   "cell_type": "code",
   "execution_count": 16,
   "id": "1ca698cb-1432-4b1d-b377-66eaa1072ced",
   "metadata": {},
   "outputs": [
    {
     "name": "stdout",
     "output_type": "stream",
     "text": [
      "Job Status: job has successfully run\n",
      "61b1a2ae72d4b53c56a7100e\n"
     ]
    }
   ],
   "source": [
    "job_monitor(job_bogota)\n",
    "print(job_bogota.job_id())"
   ]
  },
  {
   "cell_type": "code",
   "execution_count": 26,
   "id": "d3355420-6dd5-4570-9268-e738b7156aa7",
   "metadata": {},
   "outputs": [
    {
     "data": {
      "image/png": "[encoded data removed]",
      "text/plain": [
       "<Figure size 360x360 with 1 Axes>"
      ]
     },
     "execution_count": 26,
     "metadata": {},
     "output_type": "execute_result"
    }
   ],
   "source": [
    "plot_gate_map(bogota_backend)"
   ]
  },
  {
   "cell_type": "code",
   "execution_count": 25,
   "id": "40c89c25-5e74-495c-9ee6-d1acbe0b695d",
   "metadata": {},
   "outputs": [
    {
     "data": {
      "image/png": "[encoded data removed]",
      "text/plain": [
       "<Figure size 360x360 with 1 Axes>"
      ]
     },
     "execution_count": 25,
     "metadata": {},
     "output_type": "execute_result"
    }
   ],
   "source": [
    "plot_circuit_layout(bogota_circuits[1], bogota_backend)"
   ]
  },
  {
   "cell_type": "code",
   "execution_count": 38,
   "id": "3b72695d-522b-43a4-a35b-97106a06ee02",
   "metadata": {},
   "outputs": [
    {
     "name": "stdout",
     "output_type": "stream",
     "text": [
      "[2, -4, 3, 0]\n",
      "[0, 3, -4, 2]\n"
     ]
    }
   ],
   "source": [
    "random_list = [2, -4, 3, 0]\n",
    "print(random_list)\n",
    "random_list.reverse()\n",
    "print(random_list)"
   ]
  },
  {
   "cell_type": "code",
   "execution_count": 39,
   "id": "69ab9a6c-5f35-44d3-897b-2c531fb3cb1d",
   "metadata": {},
   "outputs": [],
   "source": [
    "edge_list = [ [ 0, 1 ], [ 1, 2 ], [ 2, 3 ], [ 3, 4 ] ]\n",
    "jobs_bogota = []\n",
    "for edge in edge_list:\n",
    "    bogota_circuits = transpile(circuits, backend = bogota_backend, initial_layout = edge)\n",
    "    jobs_bogota.append(bogota_backend.run(bogota_circuits, shots = shots, job_name = \"packed: bogota [ \" + str(edge[0]) + \", \" + str(edge[1]) + \" ]\", job_tags = [\"bell original inequality\", \"y=2x\", \"bogota\", \"forward\"]))\n",
    "    reverse_edge = edge\n",
    "    reverse_edge.reverse()\n",
    "    bogota_circuits = transpile(circuits, backend = bogota_backend, initial_layout = reverse_edge)\n",
    "    jobs_bogota.append(bogota_backend.run(bogota_circuits, shots = shots, job_name = \"packed: bogota [ \" + str(reverse_edge[0]) + \", \" + str(reverse_edge[1]) + \" ]\", job_tags = [\"bell original inequality\", \"y=2x\", \"bogota\", \"backward\"]))"
   ]
  },
  {
   "cell_type": "code",
   "execution_count": 10,
   "id": "021965eb-1737-4a6f-928a-853bb44a202e",
   "metadata": {},
   "outputs": [],
   "source": [
    "def get_bell_value(counts_all):\n",
    "    z = np.zeros(13)\n",
    "    for i in range(13):\n",
    "        counts = counts_all[i * 3 : i * 3 + 3]\n",
    "\n",
    "        average = [ 0, 0, 0 ]\n",
    "        for j in range(3):\n",
    "            for key in counts[j]:\n",
    "                average[j] += counts[j][key] * (1 if key[0] == key[1] else -1)\n",
    "            average[j] /= shots\n",
    "\n",
    "        z[i] = abs(average[0] - average[1]) - average[2]\n",
    "    \n",
    "    return z"
   ]
  },
  {
   "cell_type": "code",
   "execution_count": 11,
   "id": "b87541a3-2b32-4dba-b90c-25ae56524474",
   "metadata": {},
   "outputs": [],
   "source": [
    "z_quito = get_bell_value(job_quito.result().get_counts())"
   ]
  },
  {
   "cell_type": "code",
   "execution_count": 12,
   "id": "91449fda-7923-4e6d-835f-7adf7bd7d97b",
   "metadata": {},
   "outputs": [
    {
     "data": {
      "text/plain": [
       "Text(0, 0.5, 'Bell values')"
      ]
     },
     "execution_count": 12,
     "metadata": {},
     "output_type": "execute_result"
    },
    {
     "data": {
      "image/png": "[encoded data removed]",
      "text/plain": [
       "<Figure size 720x432 with 1 Axes>"
      ]
     },
     "metadata": {
      "needs_background": "light"
     },
     "output_type": "display_data"
    }
   ],
   "source": [
    "fig4 = plt.figure(figsize = (10, 6))\n",
    "ax4 = plt.axes()\n",
    "# ax4.plot(x, z_noiseless, \"o-\")\n",
    "ax4.plot(x, z_quito, \"v-\")\n",
    "# ax4.plot(x, z_kawasaki, \"P-\")\n",
    "ax4.set_xlabel('alpha')\n",
    "ax4.set_ylabel('Bell value')"
   ]
  }
 ],
 "metadata": {
  "kernelspec": {
   "display_name": "Qiskit v0.33.1 (ipykernel)",
   "language": "python",
   "name": "python3"
  },
  "language_info": {
   "codemirror_mode": {
    "name": "ipython",
    "version": 3
   },
   "file_extension": ".py",
   "mimetype": "text/x-python",
   "name": "python",
   "nbconvert_exporter": "python",
   "pygments_lexer": "ipython3",
   "version": "3.8.10"
  },
  "widgets": {
   "application/vnd.jupyter.widget-state+json": {
    "state": {},
    "version_major": 2,
    "version_minor": 0
   }
  }
 },
 "nbformat": 4,
 "nbformat_minor": 5
}
